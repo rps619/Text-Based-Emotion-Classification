{
  "cells": [
    {
      "cell_type": "code",
      "execution_count": null,
      "metadata": {
        "id": "HHYzl1n6nfBr"
      },
      "outputs": [],
      "source": [
        "from google.colab import drive\n",
        "drive.mount('/content/drive')"
      ]
    },
    {
      "cell_type": "code",
      "execution_count": null,
      "metadata": {
        "id": "bFkQtYhbp0DF"
      },
      "outputs": [],
      "source": [
        "pip install neattext"
      ]
    },
    {
      "cell_type": "code",
      "execution_count": null,
      "metadata": {
        "colab": {
          "background_save": true
        },
        "id": "xG4dFjtQpa-H"
      },
      "outputs": [],
      "source": [
        "import pandas as pd\n",
        "import numpy as np\n",
        "import matplotlib.pyplot as plt\n",
        "import seaborn as sns\n",
        "import neattext.functions as nfx"
      ]
    },
    {
      "cell_type": "code",
      "execution_count": null,
      "metadata": {
        "id": "yqZqN0aKtMK9"
      },
      "outputs": [],
      "source": [
        "# Load ML Pkgs\n",
        "# Estimators\n",
        "from sklearn.linear_model import LogisticRegression\n",
        "from sklearn.naive_bayes import MultinomialNB\n",
        "\n",
        "# Transformers\n",
        "from sklearn.feature_extraction.text import CountVectorizer\n",
        "from sklearn.model_selection import train_test_split\n",
        "from sklearn.metrics import accuracy_score,classification_report,confusion_matrix"
      ]
    },
    {
      "cell_type": "code",
      "execution_count": null,
      "metadata": {
        "id": "WilPOwTLpioz"
      },
      "outputs": [],
      "source": [
        "df = pd.read_csv('.\\DataSets\\emotion_dataset_raw.csv')\n",
        "#df = pd.read_csv('.\\DataSets\\combinedfile.csv')\n",
        "#df = pd.read_csv('.\\DataSets\\tweet_emotions.csv')\n"
      ]
    },
    {
      "cell_type": "code",
      "execution_count": null,
      "metadata": {
        "id": "vWdyRu7lqPUG"
      },
      "outputs": [],
      "source": [
        "df.tail()"
      ]
    },
    {
      "cell_type": "code",
      "execution_count": null,
      "metadata": {
        "id": "WzigKkIMqhvE"
      },
      "outputs": [],
      "source": [
        "df.shape"
      ]
    },
    {
      "cell_type": "code",
      "execution_count": null,
      "metadata": {
        "id": "Bhphi3fvrwab"
      },
      "outputs": [],
      "source": [
        "df.dtypes"
      ]
    },
    {
      "cell_type": "code",
      "execution_count": null,
      "metadata": {
        "id": "K-Ke_1m4r5mH"
      },
      "outputs": [],
      "source": [
        "df.isnull().sum()"
      ]
    },
    {
      "cell_type": "code",
      "execution_count": null,
      "metadata": {
        "id": "YfeMtFW3r_QE"
      },
      "outputs": [],
      "source": [
        "df['Emotion'].value_counts()"
      ]
    },
    {
      "cell_type": "code",
      "execution_count": null,
      "metadata": {
        "id": "iObkqQFHsHT_"
      },
      "outputs": [],
      "source": [
        "#df['Emotion'].value_counts().plot(kind='bar')\n",
        "#sns.countplot(df['Emotion'])\n",
        "sns.countplot(x='Emotion', data=df)"
      ]
    },
    {
      "cell_type": "code",
      "execution_count": null,
      "metadata": {
        "id": "B4EVVyPzt6Nc"
      },
      "outputs": [],
      "source": [
        "from textblob import TextBlob\n",
        "from sqlalchemy.engine import result"
      ]
    },
    {
      "cell_type": "code",
      "execution_count": null,
      "metadata": {
        "id": "M5vdbmMJuKPC"
      },
      "outputs": [],
      "source": [
        "def get_sentiment(text):\n",
        "  blob = TextBlob(text)\n",
        "  sentiment = blob.sentiment.polarity\n",
        "  if sentiment > 0:\n",
        "    return 'Positive'\n",
        "  elif sentiment == 0:\n",
        "    return 'Neutral'\n",
        "  else:\n",
        "    result = 'Negative'\n",
        "    return result"
      ]
    },
    {
      "cell_type": "code",
      "execution_count": null,
      "metadata": {
        "id": "MCh8EVQtul9n"
      },
      "outputs": [],
      "source": [
        "get_sentiment('I am happy')"
      ]
    },
    {
      "cell_type": "code",
      "execution_count": null,
      "metadata": {
        "id": "viKjD1qHu0Vd"
      },
      "outputs": [],
      "source": [
        "df['Sentiment'] = df['Text'].apply(get_sentiment)"
      ]
    },
    {
      "cell_type": "code",
      "execution_count": null,
      "metadata": {
        "id": "Y17sRdlqvkCo"
      },
      "outputs": [],
      "source": [
        "df.head()"
      ]
    },
    {
      "cell_type": "code",
      "execution_count": null,
      "metadata": {
        "id": "1w5Op2tdwzm-"
      },
      "outputs": [],
      "source": [
        "df.groupby(['Emotion', 'Sentiment']).size()"
      ]
    },
    {
      "cell_type": "code",
      "execution_count": null,
      "metadata": {
        "colab": {
          "background_save": true
        },
        "id": "VQ7YnWnixT-b"
      },
      "outputs": [],
      "source": [
        "df.groupby(['Emotion', 'Sentiment']).size().plot(kind='bar')"
      ]
    },
    {
      "cell_type": "code",
      "execution_count": null,
      "metadata": {
        "colab": {
          "background_save": true
        },
        "id": "qXAB9dafs0jr"
      },
      "outputs": [],
      "source": [
        "# # Data Cleaning\n",
        "dir(nfx)"
      ]
    },
    {
      "cell_type": "code",
      "execution_count": null,
      "metadata": {
        "colab": {
          "background_save": true
        },
        "id": "ptTqw5AbtT4C"
      },
      "outputs": [],
      "source": [
        "# User handles\n",
        "df['Clean_Text'] = df['Text'].apply(nfx.remove_userhandles)\n",
        "# Stopwords\n",
        "df['Clean_Text'] = df['Clean_Text'].apply(nfx.remove_stopwords)\n",
        "#punctuations\n",
        "df['Clean_Text'] = df['Clean_Text'].apply(nfx.remove_punctuations)"
      ]
    },
    {
      "cell_type": "code",
      "execution_count": null,
      "metadata": {
        "colab": {
          "background_save": true
        },
        "id": "8IA1Y7fjtZEt"
      },
      "outputs": [],
      "source": [
        "df"
      ]
    },
    {
      "cell_type": "code",
      "execution_count": null,
      "metadata": {
        "colab": {
          "background_save": true
        },
        "id": "hPv95QWlyu9L"
      },
      "outputs": [],
      "source": [
        "#common word extraction\n",
        "from collections import Counter"
      ]
    },
    {
      "cell_type": "code",
      "execution_count": null,
      "metadata": {
        "colab": {
          "background_save": true
        },
        "id": "be4DOeJ3y1Sg"
      },
      "outputs": [],
      "source": [
        "def extract_keywords(text, num=50):\n",
        "  tokens = [tok for tok in text.split()]\n",
        "  most_common_tokens = Counter(tokens).most_common(num)\n",
        "  return dict(most_common_tokens)"
      ]
    },
    {
      "cell_type": "code",
      "execution_count": null,
      "metadata": {
        "colab": {
          "background_save": true
        },
        "id": "AxoOmHndzdwt"
      },
      "outputs": [],
      "source": [
        "emotion_list = df['Emotion'].unique().tolist()\n",
        "emotion_list"
      ]
    },
    {
      "cell_type": "code",
      "execution_count": null,
      "metadata": {
        "id": "8oKnQ8GgzWYl"
      },
      "outputs": [],
      "source": [
        "joy_list = df[df['Emotion']== 'joy']['Clean_Text'].tolist()\n",
        "#joy_list"
      ]
    },
    {
      "cell_type": "code",
      "execution_count": null,
      "metadata": {
        "colab": {
          "background_save": true
        },
        "id": "zZW8CxMO03UF"
      },
      "outputs": [],
      "source": [
        "joy_docx = ' '.join(joy_list)\n",
        "joy_docx"
      ]
    },
    {
      "cell_type": "code",
      "execution_count": null,
      "metadata": {
        "id": "fsCllQHw1J9e"
      },
      "outputs": [],
      "source": [
        "#extracting keywords\n",
        "keyword_joy = extract_keywords(joy_docx)\n",
        "keyword_joy"
      ]
    },
    {
      "cell_type": "code",
      "execution_count": null,
      "metadata": {
        "id": "JqM9moWeXvUk"
      },
      "outputs": [],
      "source": [
        "def plot_most_common_words(mydict):\n",
        "  df_01 = pd.DataFrame(mydict.items(), columns=['token', 'Count'])\n",
        "  plt.figure(figsize=(20,10))\n",
        "  sns.barplot(x='token', y='Count', data=df_01)\n",
        "  plt.xticks(rotation=45)\n",
        "  plt.show()"
      ]
    },
    {
      "cell_type": "code",
      "execution_count": null,
      "metadata": {
        "id": "WAIeyb5vZh_3"
      },
      "outputs": [],
      "source": [
        "plot_most_common_words(keyword_joy)"
      ]
    },
    {
      "cell_type": "code",
      "execution_count": null,
      "metadata": {
        "colab": {
          "background_save": true
        },
        "id": "XsUj3wcs2MRs"
      },
      "outputs": [],
      "source": [
        "surprise_list = df[df['Emotion']== 'surprise']['Clean_Text'].tolist()\n",
        "surprise_docx = ' '.join(surprise_list)\n",
        "keyword_surprise = extract_keywords(surprise_docx)"
      ]
    },
    {
      "cell_type": "code",
      "execution_count": null,
      "metadata": {
        "colab": {
          "background_save": true
        },
        "id": "gBYDVC8q3SmV"
      },
      "outputs": [],
      "source": [
        "from wordcloud import WordCloud"
      ]
    },
    {
      "cell_type": "code",
      "execution_count": null,
      "metadata": {
        "id": "duJd6_7e3Xyb"
      },
      "outputs": [],
      "source": [
        "# def plot_wordcloud(docx):\n",
        "#   wordcloud = WordCloud().generate(docx)\n",
        "#   plt.figure(figsize=(20,10))\n",
        "#   plt.imshow(wordcloud, interpolation=\"bilinear\")\n",
        "#   plt.axis('off')\n",
        "#   plt.show()\n",
        "\n",
        "# plot_wordcloud(joy_docx)\n",
        "# plot_wordcloud(surprise_docx)"
      ]
    },
    {
      "cell_type": "markdown",
      "metadata": {
        "id": "aqwIhrKL4JzW"
      },
      "source": [
        "Main model"
      ]
    },
    {
      "cell_type": "code",
      "execution_count": null,
      "metadata": {
        "colab": {
          "background_save": true
        },
        "id": "G10cZ0Ok39iq"
      },
      "outputs": [],
      "source": [
        "#main ML model\n",
        "from sklearn.linear_model import LogisticRegression\n",
        "from sklearn.naive_bayes import MultinomialNB\n",
        "from sklearn.feature_extraction.text import CountVectorizer, TfidfVectorizer\n",
        "from sklearn.metrics import accuracy_score, confusion_matrix, classification_report\n",
        "from sklearn.model_selection import train_test_split"
      ]
    },
    {
      "cell_type": "code",
      "execution_count": null,
      "metadata": {
        "colab": {
          "background_save": true
        },
        "id": "SCb6RDax4Yvq"
      },
      "outputs": [],
      "source": [
        "#feature building\n",
        "Xfeature = df['Clean_Text']\n",
        "ylabel = df['Emotion']\n",
        "Xfeature"
      ]
    },
    {
      "cell_type": "code",
      "execution_count": null,
      "metadata": {
        "id": "Lv_Dea2w6AKB"
      },
      "outputs": [],
      "source": [
        "cv = CountVectorizer()\n",
        "X= cv.fit_transform(Xfeature)"
      ]
    },
    {
      "cell_type": "code",
      "execution_count": null,
      "metadata": {
        "colab": {
          "background_save": true
        },
        "id": "twdChLpx6H77"
      },
      "outputs": [],
      "source": [
        "#geatures by name\n",
        "cv.get_feature_names_out()"
      ]
    },
    {
      "cell_type": "code",
      "execution_count": null,
      "metadata": {
        "colab": {
          "background_save": true
        },
        "id": "b0kvc3ns67sv"
      },
      "outputs": [],
      "source": [
        "X.toarray()"
      ]
    },
    {
      "cell_type": "code",
      "execution_count": null,
      "metadata": {
        "colab": {
          "background_save": true
        },
        "id": "0EN59fGP7LkB"
      },
      "outputs": [],
      "source": [
        "X_train, X_test, y_train, y_test = train_test_split(X, ylabel, test_size=0.3, random_state=42)"
      ]
    },
    {
      "cell_type": "code",
      "execution_count": null,
      "metadata": {
        "colab": {
          "background_save": true
        },
        "id": "LoUuvYt67xY0"
      },
      "outputs": [],
      "source": [
        "#model building\n",
        "nv_model = MultinomialNB()\n",
        "nv_model.fit(X_train, y_train)"
      ]
    },
    {
      "cell_type": "code",
      "execution_count": null,
      "metadata": {
        "colab": {
          "background_save": true
        },
        "id": "3rYJ6Ob878l-"
      },
      "outputs": [],
      "source": [
        "#accuracy\n",
        "accuracynv = nv_model.score(X_test, y_test)\n",
        "print(\"Naive bayes Model Accuracy:\", accuracynv)"
      ]
    },
    {
      "cell_type": "code",
      "execution_count": null,
      "metadata": {
        "colab": {
          "background_save": true
        },
        "id": "dzdUF0Ws8CZI",
        "outputId": "920ff16f-dba1-459e-b074-35cf7f623138"
      },
      "outputs": [
        {
          "data": {
            "text/plain": [
              "array(['fear', 'sadness', 'sadness', ..., 'sadness', 'anger', 'sadness'],\n",
              "      dtype='<U8')"
            ]
          },
          "execution_count": 39,
          "metadata": {},
          "output_type": "execute_result"
        }
      ],
      "source": [
        "#prediction\n",
        "y_pred_for_nv = nv_model.predict(X_test)\n",
        "y_pred_for_nv"
      ]
    },
    {
      "cell_type": "code",
      "execution_count": null,
      "metadata": {
        "colab": {
          "background_save": true
        },
        "id": "M9JXvGsz8J_8"
      },
      "outputs": [],
      "source": [
        "#making individual prediction\n",
        "sample_text = ['I am happy']\n",
        "vect = cv.transform(sample_text).toarray()\n",
        "nv_model.predict(vect)"
      ]
    },
    {
      "cell_type": "code",
      "execution_count": null,
      "metadata": {
        "colab": {
          "background_save": true
        },
        "id": "ZcO0Aifs8sqa"
      },
      "outputs": [],
      "source": [
        "#prediction probablity\n",
        "nv_model.predict_proba(vect)"
      ]
    },
    {
      "cell_type": "code",
      "execution_count": null,
      "metadata": {
        "colab": {
          "background_save": true
        },
        "id": "xy8RjPSv9VBh"
      },
      "outputs": [],
      "source": [
        "nv_model.classes_"
      ]
    },
    {
      "cell_type": "code",
      "execution_count": null,
      "metadata": {
        "colab": {
          "background_save": true
        },
        "id": "ajiJtngb9eTe"
      },
      "outputs": [],
      "source": [
        "np.max(nv_model.predict_proba(vect))"
      ]
    },
    {
      "cell_type": "code",
      "execution_count": null,
      "metadata": {
        "colab": {
          "background_save": true
        },
        "id": "33BRqDwH-GlK"
      },
      "outputs": [],
      "source": [
        "def predict_emotion(sample_texts, model):\n",
        "    if isinstance(sample_texts, str):\n",
        "        sample_texts = [sample_texts]  # Convert single string to a list of one element\n",
        "\n",
        "    predictions = []\n",
        "    pred_percentages = []\n",
        "\n",
        "    for sample_text in sample_texts:\n",
        "        myvect = cv.transform([sample_text]).toarray()\n",
        "        prediction = model.predict(myvect)\n",
        "        prediction_proba = model.predict_proba(myvect)\n",
        "        pred_percentage_for_all = dict(zip(model.classes_, prediction_proba[0]))\n",
        "        print(\"prediction:{}, Prediction Score:{}\".format(prediction[0], np.max(prediction_proba)))\n",
        "        predictions.append(prediction[0])\n",
        "        pred_percentages.append(pred_percentage_for_all)\n",
        "\n",
        "    return predictions, pred_percentages\n"
      ]
    },
    {
      "cell_type": "code",
      "execution_count": null,
      "metadata": {
        "colab": {
          "background_save": true
        },
        "id": "lceoS8Hl_Ms-"
      },
      "outputs": [],
      "source": [
        "predict_emotion(sample_text, nv_model)"
      ]
    },
    {
      "cell_type": "code",
      "execution_count": null,
      "metadata": {
        "id": "dHwZvhVJBi67"
      },
      "outputs": [],
      "source": [
        "predict_emotion([\"i am going to kill you\"], nv_model)"
      ]
    },
    {
      "cell_type": "code",
      "execution_count": null,
      "metadata": {
        "id": "d_Deyqf7Cdfb"
      },
      "outputs": [],
      "source": [
        "print(classification_report(y_test, y_pred_for_nv))"
      ]
    },
    {
      "cell_type": "code",
      "execution_count": null,
      "metadata": {
        "colab": {
          "background_save": true
        },
        "id": "XaKZeVHIDVWb"
      },
      "outputs": [],
      "source": [
        "#model saving\n",
        "import joblib"
      ]
    },
    {
      "cell_type": "code",
      "execution_count": null,
      "metadata": {
        "colab": {
          "background_save": true
        },
        "id": "KZzJj_p7D7Mb"
      },
      "outputs": [],
      "source": [
        "model_file = open(\"/content/drive/MyDrive/AAIAttempt03/nv_model.pkl\", \"wb\")\n",
        "joblib.dump(nv_model, model_file)\n",
        "model_file.close()"
      ]
    },
    {
      "cell_type": "code",
      "execution_count": null,
      "metadata": {
        "colab": {
          "background_save": true
        },
        "id": "MD0XY-K1EiBh"
      },
      "outputs": [],
      "source": [
        "lr_model = LogisticRegression()\n",
        "lr_model.fit(X_train, y_train)"
      ]
    },
    {
      "cell_type": "code",
      "execution_count": null,
      "metadata": {
        "colab": {
          "background_save": true
        },
        "id": "ljwk1WEAFoI4"
      },
      "outputs": [],
      "source": [
        "accuracylr = lr_model.score(X_test, y_test)\n",
        "print(\"LR Model Accuracy:\", accuracylr)"
      ]
    },
    {
      "cell_type": "code",
      "execution_count": null,
      "metadata": {
        "id": "UbVgw1AwJyVI"
      },
      "outputs": [],
      "source": [
        "predict_emotion(\"i am happy\", nv_model)"
      ]
    },
    {
      "cell_type": "code",
      "execution_count": null,
      "metadata": {
        "colab": {
          "background_save": true
        },
        "id": "Ve-fhOMDFtSQ"
      },
      "outputs": [],
      "source": [
        "# a= input(\"enter the text: \")\n",
        "# print(\"prediction using Logistic Regression: \", predict_emotion(a, lr_model))\n",
        "# print(\"prediction using Naive Bayes: \", predict_emotion(a, nv_model))"
      ]
    },
    {
      "cell_type": "code",
      "execution_count": null,
      "metadata": {
        "colab": {
          "background_save": true
        },
        "id": "2phMkGKdF-ko"
      },
      "outputs": [],
      "source": [
        "!pip install eli5"
      ]
    },
    {
      "cell_type": "code",
      "execution_count": null,
      "metadata": {
        "colab": {
          "background_save": true
        },
        "id": "laQgu0SbGIEB"
      },
      "outputs": [],
      "source": [
        "import eli5"
      ]
    },
    {
      "cell_type": "code",
      "execution_count": null,
      "metadata": {
        "colab": {
          "background_save": true
        },
        "id": "V6Sz974wGLmq"
      },
      "outputs": [],
      "source": [
        "eli5.show_weights(lr_model, top=20)"
      ]
    },
    {
      "cell_type": "code",
      "execution_count": null,
      "metadata": {
        "colab": {
          "background_save": true
        },
        "id": "HGcR0HDVGj9E"
      },
      "outputs": [],
      "source": [
        "class_names = ylabel.unique().tolist()"
      ]
    },
    {
      "cell_type": "code",
      "execution_count": null,
      "metadata": {
        "colab": {
          "background_save": true
        },
        "id": "F2wKsRQPGvTL"
      },
      "outputs": [],
      "source": [
        "feature_names = cv.get_feature_names_out()"
      ]
    },
    {
      "cell_type": "code",
      "execution_count": null,
      "metadata": {
        "colab": {
          "background_save": true
        },
        "id": "W5-LO8EdG6kq"
      },
      "outputs": [],
      "source": [
        "eli5.show_weights(lr_model, feature_names=feature_names, target_names=class_names)"
      ]
    },
    {
      "cell_type": "code",
      "execution_count": null,
      "metadata": {
        "colab": {
          "background_save": true
        },
        "id": "Tewc8vuxHXoq"
      },
      "outputs": [],
      "source": [
        "# ?eli5.show_weights"
      ]
    },
    {
      "cell_type": "code",
      "execution_count": null,
      "metadata": {
        "colab": {
          "background_save": true
        },
        "id": "iCNwKaMTm2w0"
      },
      "outputs": [],
      "source": [
        "from sklearn.svm import SVC"
      ]
    },
    {
      "cell_type": "code",
      "execution_count": null,
      "metadata": {
        "colab": {
          "background_save": true
        },
        "id": "ptKxB3JsnBId"
      },
      "outputs": [],
      "source": [
        "# Create an instance of the SVM classifier\n",
        "svm_model = SVC(kernel='linear', probability=True)\n",
        "\n",
        "# Train the SVM model on your training data\n",
        "svm_model.fit(X_train, y_train)"
      ]
    },
    {
      "cell_type": "code",
      "execution_count": null,
      "metadata": {
        "colab": {
          "background_save": true
        },
        "id": "Ra8WoRUxnE_v"
      },
      "outputs": [],
      "source": [
        "# Calculate the accuracy of the SVM model on the test data\n",
        "svm_accuracy = svm_model.score(X_test, y_test)\n",
        "print(\"SVM Model Accuracy:\", svm_accuracy)"
      ]
    },
    {
      "cell_type": "code",
      "execution_count": null,
      "metadata": {
        "id": "ZAuDd2Tulkcc"
      },
      "outputs": [],
      "source": [
        "predict_emotion(\"i am sad\", svm_model)"
      ]
    },
    {
      "cell_type": "code",
      "execution_count": null,
      "metadata": {
        "colab": {
          "background_save": true
        },
        "id": "Oxxi6vVenHNA"
      },
      "outputs": [],
      "source": [
        "# Predict emotions using the SVM model\n",
        "y_pred_for_svm = svm_model.predict(X_test)"
      ]
    },
    {
      "cell_type": "code",
      "execution_count": null,
      "metadata": {
        "colab": {
          "background_save": true
        },
        "id": "Z-OhW8QunKFD"
      },
      "outputs": [],
      "source": [
        "svm_model_file = open(\"/content/drive/MyDrive/AAIAttempt03/svm_model.pkl\", \"wb\")\n",
        "joblib.dump(svm_model, svm_model_file)\n",
        "svm_model_file.close()"
      ]
    },
    {
      "cell_type": "code",
      "execution_count": null,
      "metadata": {
        "colab": {
          "background_save": true
        },
        "id": "NA8et4Fwmcsi"
      },
      "outputs": [],
      "source": [
        "import pandas as pd\n",
        "import numpy as np\n",
        "from sklearn.ensemble import VotingClassifier\n",
        "from sklearn.linear_model import LogisticRegression\n",
        "from sklearn.ensemble import RandomForestClassifier\n",
        "from sklearn.naive_bayes import MultinomialNB\n",
        "from sklearn.feature_extraction.text import CountVectorizer\n",
        "from sklearn.model_selection import train_test_split\n",
        "from sklearn.metrics import accuracy_score"
      ]
    },
    {
      "cell_type": "code",
      "execution_count": null,
      "metadata": {
        "id": "QInqm92AmnWP"
      },
      "outputs": [],
      "source": [
        "# Create individual classifiers\n",
        "logistic_regression = LogisticRegression(max_iter=1000)\n",
        "random_forest = RandomForestClassifier(n_estimators=100, random_state=42)\n",
        "naive_bayes = MultinomialNB()"
      ]
    },
    {
      "cell_type": "code",
      "execution_count": null,
      "metadata": {
        "id": "4U1mojN9msit"
      },
      "outputs": [],
      "source": [
        "# Create a Voting Classifier that combines the predictions of individual classifiers\n",
        "voting_classifier = VotingClassifier(estimators=[\n",
        "    ('lr', logistic_regression),\n",
        "    ('rf', random_forest),\n",
        "    ('nb', naive_bayes)\n",
        "], voting='soft')  # 'soft' voting uses predicted class probabilities for voting"
      ]
    },
    {
      "cell_type": "code",
      "execution_count": null,
      "metadata": {
        "id": "Cwfytbkrmvm4"
      },
      "outputs": [],
      "source": [
        "# Train the Voting Classifier on the training data\n",
        "voting_classifier.fit(X_train, y_train)\n",
        "\n",
        "# Make predictions using the Voting Classifier\n",
        "y_pred = voting_classifier.predict(X_test)"
      ]
    },
    {
      "cell_type": "code",
      "execution_count": null,
      "metadata": {
        "id": "CI6l4vBdmyGY"
      },
      "outputs": [],
      "source": [
        "# Calculate the accuracy of the ensemble model\n",
        "accuracy = accuracy_score(y_test, y_pred)\n",
        "print(\"Ensemble Model Accuracy:\", accuracy)"
      ]
    },
    {
      "cell_type": "code",
      "execution_count": null,
      "metadata": {
        "id": "3wbEwBlMpfg3"
      },
      "outputs": [],
      "source": [
        "predict_emotion(\"life is so depressing\", voting_classifier)"
      ]
    },
    {
      "cell_type": "code",
      "execution_count": null,
      "metadata": {
        "colab": {
          "background_save": true
        },
        "id": "djhOMILbhwAT"
      },
      "outputs": [],
      "source": [
        "#set of accuracies\n",
        "print(\"Naive bayes Model Accuracy:\", accuracynv)\n",
        "print(\"LR Model Accuracy:\", accuracylr)\n",
        "print(\"SVM Model Accuracy:\", svm_accuracy)\n",
        "print(\"Ensemble Model Accuracy:\", accuracy)"
      ]
    },
    {
      "cell_type": "code",
      "execution_count": null,
      "metadata": {
        "id": "k6UB6NxanSIE"
      },
      "outputs": [],
      "source": [
        "a= input(\"enter the text: \")\n",
        "print(\"====================================================================\")\n",
        "print(\"prediction using Logistic Regression: \", predict_emotion(a, lr_model))\n",
        "print(\"====================================================================\")\n",
        "print(\"prediction using Naive Bayes: \", predict_emotion(a, nv_model))\n",
        "print(\"====================================================================\")\n",
        "print(\"prediction using SVM: \", predict_emotion(a, svm_model))\n",
        "print(\"====================================================================\")\n",
        "print(\"prediction using Ensemble Model: \", predict_emotion(a, voting_classifier))"
      ]
    }
  ],
  "metadata": {
    "colab": {
      "provenance": [],
      "toc_visible": true
    },
    "kernelspec": {
      "display_name": "Python 3",
      "name": "python3"
    },
    "language_info": {
      "name": "python"
    }
  },
  "nbformat": 4,
  "nbformat_minor": 0
}
